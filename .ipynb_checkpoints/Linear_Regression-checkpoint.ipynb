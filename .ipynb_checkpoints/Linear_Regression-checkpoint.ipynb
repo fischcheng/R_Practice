{
 "cells": [
  {
   "cell_type": "code",
   "execution_count": 1,
   "metadata": {},
   "outputs": [
    {
     "ename": "ERROR",
     "evalue": "Error in library(ISLR): there is no package called ‘ISLR’\n",
     "output_type": "error",
     "traceback": [
      "Error in library(ISLR): there is no package called ‘ISLR’\nTraceback:\n",
      "1. library(ISLR)",
      "2. stop(txt, domain = NA)"
     ]
    }
   ],
   "source": [
    "library(MASS)\n",
    "library(ISLR)"
   ]
  },
  {
   "cell_type": "code",
   "execution_count": null,
   "metadata": {
    "collapsed": true
   },
   "outputs": [],
   "source": []
  }
 ],
 "metadata": {
  "kernelspec": {
   "display_name": "R",
   "language": "R",
   "name": "ir"
  },
  "language_info": {
   "codemirror_mode": "r",
   "file_extension": ".r",
   "mimetype": "text/x-r-source",
   "name": "R",
   "pygments_lexer": "r",
   "version": "3.4.3"
  }
 },
 "nbformat": 4,
 "nbformat_minor": 2
}
